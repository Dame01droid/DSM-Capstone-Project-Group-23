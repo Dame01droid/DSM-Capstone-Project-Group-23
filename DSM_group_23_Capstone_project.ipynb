{
  "nbformat": 4,
  "nbformat_minor": 0,
  "metadata": {
    "colab": {
      "provenance": [],
      "include_colab_link": true
    },
    "kernelspec": {
      "name": "python3",
      "display_name": "Python 3"
    },
    "language_info": {
      "name": "python"
    }
  },
  "cells": [
    {
      "cell_type": "markdown",
      "metadata": {
        "id": "view-in-github",
        "colab_type": "text"
      },
      "source": [
        "<a href=\"https://colab.research.google.com/github/Dame01droid/DSM-Capstone-Project-Group-23/blob/main/DSM_group_23_Capstone_project.ipynb\" target=\"_parent\"><img src=\"https://colab.research.google.com/assets/colab-badge.svg\" alt=\"Open In Colab\"/></a>"
      ]
    },
    {
      "cell_type": "code",
      "source": [
        "!pip3 -q install numpy pandas matplotlib seaborn geopy folium datetime scipy sklearn tensorflow"
      ],
      "metadata": {
        "colab": {
          "base_uri": "https://localhost:8080/"
        },
        "id": "k9q2y7wCgFbW",
        "outputId": "14b56bd9-8786-4852-acd0-28f3c1b56fd7"
      },
      "execution_count": null,
      "outputs": [
        {
          "output_type": "stream",
          "name": "stdout",
          "text": [
            "\u001b[K     |████████████████████████████████| 52 kB 733 kB/s \n",
            "\u001b[K     |████████████████████████████████| 254 kB 14.6 MB/s \n",
            "\u001b[?25h  Building wheel for sklearn (setup.py) ... \u001b[?25l\u001b[?25hdone\n"
          ]
        }
      ]
    },
    {
      "cell_type": "code",
      "execution_count": null,
      "metadata": {
        "id": "M9PkzF8wEATr",
        "colab": {
          "base_uri": "https://localhost:8080/",
          "height": 130
        },
        "outputId": "c48e1a00-77e6-4cf4-85b9-0a66cd345a33"
      },
      "outputs": [
        {
          "output_type": "error",
          "ename": "IndentationError",
          "evalue": "ignored",
          "traceback": [
            "\u001b[0;36m  File \u001b[0;32m\"<ipython-input-2-39e6e0e5f352>\"\u001b[0;36m, line \u001b[0;32m2\u001b[0m\n\u001b[0;31m    \"\"\"\u001b[0m\n\u001b[0m    ^\u001b[0m\n\u001b[0;31mIndentationError\u001b[0m\u001b[0;31m:\u001b[0m unexpected indent\n"
          ]
        }
      ],
      "source": [
        "#The following libraries are required to run this notebook\n",
        "  \"\"\"\n",
        "  Description for packages imported in this file.\n",
        "\n",
        "  Folium is a tool that makes you look like a mapping God while all the work is done in the back end.\n",
        "  It's a Python wrapper for a tool called leaflet.js. \n",
        "  We basically give it minimal instructions, JS does loads of work in the background and we get some very, very cool maps. \n",
        "  It's great stuff. For clarity, the map is technically called a 'Leaflet Map'. \n",
        "  The tool that let's you call them in Python is called 'Folium'.\n",
        "  The other cool stuff? It gives you interactive functionality. Want to let users drop markers on the map? Can do. \n",
        "  Build heatmaps? Can do. Build heatmaps that change with time? Can do.\n",
        "\n",
        "  geopy.distance\n",
        "  Geopy is a Python library that simplifies the calculation of geographic distances between two points.\n",
        "  It makes it easier for developers to retrieve coordinates of various locations using third-party geocoders, as well as other data sources.\n",
        "  \n",
        "  scipy.stats\n",
        "  This module contains a large number of probability distributions, summary and frequency statistics, correlation functions and statistical tests, \n",
        "  masked statistics, kernel density estimation, quasi-Monte Carlo functionality, and more.\n",
        "\n",
        "  date time\n",
        "  The datetime module supplies classes for manipulating dates and times.\n",
        "  While date and time arithmetic is supported, the focus of the implementation is on efficient attribute extraction for output formatting and manipulation.\n",
        "\n",
        "  ttest \n",
        "  Calculates the T-test for the means of TWO INDEPENDENT samples of scores. \n",
        "  This is a two-sided test for the null hypothesis that 2 independent samples have identical average (expected) values. \n",
        "  This test assumes that the populations have identical variances\n",
        "\"\"\"\n",
        "\n",
        "%matplotlib inline\n",
        "import numpy as np\n",
        "import pandas as pd\n",
        "import matplotlib.pyplot as plt\n",
        "import matplotlib\n",
        "import seaborn as sns\n",
        "import geopy.distance\n",
        "from math import radians,cos,sin,asin,sqrt\n",
        "import folium\n",
        "import datetime\n",
        "from folium.plugins import HeatMap\n",
        "from scipy.stats import ttest_ind"
      ]
    },
    {
      "cell_type": "code",
      "source": [],
      "metadata": {
        "id": "DGsxT4S4jKCi"
      },
      "execution_count": null,
      "outputs": []
    }
  ]
}